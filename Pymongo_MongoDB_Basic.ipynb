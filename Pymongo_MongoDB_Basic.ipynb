{
 "cells": [
  {
   "cell_type": "markdown",
   "metadata": {},
   "source": [
    "### 1. Making a Connection with MongoClient"
   ]
  },
  {
   "cell_type": "code",
   "execution_count": 26,
   "metadata": {
    "collapsed": true
   },
   "outputs": [],
   "source": [
    "from pymongo import MongoClient\n",
    "import pprint\n",
    "client = MongoClient('mongodb://localhost:27017')"
   ]
  },
  {
   "cell_type": "markdown",
   "metadata": {},
   "source": [
    "### 2. Getting a Database"
   ]
  },
  {
   "cell_type": "code",
   "execution_count": 36,
   "metadata": {
    "collapsed": true
   },
   "outputs": [],
   "source": [
    "db = client.test_database\n",
    "# access databases using attribute style on client"
   ]
  },
  {
   "cell_type": "markdown",
   "metadata": {},
   "source": [
    "### 3. Getting a Collection\n",
    "- roughly the equivalent of a table in a relational database. Getting a collection in PyMongo works the same as getting a database"
   ]
  },
  {
   "cell_type": "code",
   "execution_count": 37,
   "metadata": {
    "collapsed": true
   },
   "outputs": [],
   "source": [
    "collection = db.test_collection"
   ]
  },
  {
   "cell_type": "markdown",
   "metadata": {},
   "source": [
    "### 4. Documents\n",
    "- Data in MongoDB is represented (and stored) using JSON-style documents.\n",
    "- Collections ~~ Table"
   ]
  },
  {
   "cell_type": "code",
   "execution_count": 40,
   "metadata": {
    "collapsed": true
   },
   "outputs": [],
   "source": [
    "### Inserting a Document \n",
    "# Step 1: define the collection to use\n",
    "# Step 2: insert_one() / insert_many()"
   ]
  },
  {
   "cell_type": "code",
   "execution_count": 60,
   "metadata": {},
   "outputs": [
    {
     "name": "stdout",
     "output_type": "stream",
     "text": [
      "<pymongo.results.InsertOneResult object at 0x102cc9240>\n"
     ]
    }
   ],
   "source": [
    "posts = db.posts\n",
    "post_data = {\n",
    "    'title':'Python and MongoDB',    # insert_one()\n",
    "    'content':'Pymongo is fun',\n",
    "    'author': 'Luka'\n",
    "}\n",
    "result = posts.insert_one(post_data)\n",
    "print(result)"
   ]
  },
  {
   "cell_type": "code",
   "execution_count": 61,
   "metadata": {},
   "outputs": [
    {
     "name": "stdout",
     "output_type": "stream",
     "text": [
      "<pymongo.results.InsertManyResult object at 0x102cba318>\n"
     ]
    }
   ],
   "source": [
    "post_1 = {\n",
    "    'title':'Python and MongoDB',   \n",
    "    'content':'Pymongo is fun',\n",
    "    'author': 'Lumi'\n",
    "}\n",
    "post_2 = {\n",
    "    'title':'Data Analysis',  \n",
    "    'content':'I love Python',\n",
    "    'author': 'Apple'\n",
    "}\n",
    "post_3 = {\n",
    "    'title':'life is good', \n",
    "    'content':'Life is hard, so use Python',\n",
    "    'author': 'Free'\n",
    "}\n",
    "new_result = posts.insert_many([post_1,post_2,post_3])\n",
    "print(new_result)"
   ]
  },
  {
   "cell_type": "code",
   "execution_count": 62,
   "metadata": {
    "collapsed": true
   },
   "outputs": [],
   "source": [
    "### Find Documents"
   ]
  },
  {
   "cell_type": "code",
   "execution_count": 70,
   "metadata": {},
   "outputs": [
    {
     "name": "stdout",
     "output_type": "stream",
     "text": [
      "{'_id': ObjectId('5914e3f73506ba17113c522e'), 'title': 'Data Analysis', 'content': 'I love Python', 'author': 'Apple'}\n"
     ]
    }
   ],
   "source": [
    "Apple_post = posts.find_one({'author':\"Apple\"})\n",
    "print(Apple_post)"
   ]
  },
  {
   "cell_type": "code",
   "execution_count": 71,
   "metadata": {},
   "outputs": [
    {
     "name": "stdout",
     "output_type": "stream",
     "text": [
      "{'_id': ObjectId('5914e3f73506ba17113c522e'),\n",
      " 'author': 'Apple',\n",
      " 'content': 'I love Python',\n",
      " 'title': 'Data Analysis'}\n"
     ]
    }
   ],
   "source": [
    "import pprint             # USE pprint to get better format\n",
    "pprint.pprint(Apple_post)"
   ]
  },
  {
   "cell_type": "code",
   "execution_count": 72,
   "metadata": {},
   "outputs": [
    {
     "name": "stdout",
     "output_type": "stream",
     "text": [
      "_id\n",
      "title\n",
      "content\n",
      "author\n"
     ]
    }
   ],
   "source": [
    "for post in Apple_post:\n",
    "    print(post)"
   ]
  },
  {
   "cell_type": "code",
   "execution_count": 74,
   "metadata": {},
   "outputs": [
    {
     "data": {
      "text/plain": [
       "1"
      ]
     },
     "execution_count": 74,
     "metadata": {},
     "output_type": "execute_result"
    }
   ],
   "source": [
    "# Counting\n",
    "posts.find({\"author\": \"Apple\"}).count()\n"
   ]
  },
  {
   "cell_type": "code",
   "execution_count": 92,
   "metadata": {},
   "outputs": [
    {
     "data": {
      "text/plain": [
       "7"
      ]
     },
     "execution_count": 92,
     "metadata": {},
     "output_type": "execute_result"
    }
   ],
   "source": [
    "posts.count()"
   ]
  },
  {
   "cell_type": "code",
   "execution_count": 93,
   "metadata": {},
   "outputs": [
    {
     "data": {
      "text/plain": [
       "2"
      ]
     },
     "execution_count": 93,
     "metadata": {},
     "output_type": "execute_result"
    }
   ],
   "source": [
    "posts.count({'author':'Luka'})"
   ]
  },
  {
   "cell_type": "markdown",
   "metadata": {},
   "source": [
    "### 5. Practice"
   ]
  },
  {
   "cell_type": "code",
   "execution_count": 75,
   "metadata": {
    "collapsed": true
   },
   "outputs": [],
   "source": [
    "### Udacity Lecture Practice"
   ]
  },
  {
   "cell_type": "code",
   "execution_count": 88,
   "metadata": {
    "collapsed": true
   },
   "outputs": [],
   "source": [
    "tesla_s = {\n",
    "    'manufacturer':'Tesla Motors',\n",
    "    'class':'full-size',\n",
    "    'body style':'5-door liftback',\n",
    "    'production':[2012,2013],\n",
    "    'model years':[2013],\n",
    "    'layout': ['Rear-motor','rear_wheel frive'],\n",
    "    'designer': {\n",
    "        'firstname': 'Franz',\n",
    "        'surname': 'von Holzhausen'\n",
    "    },\n",
    "}\n"
   ]
  },
  {
   "cell_type": "code",
   "execution_count": 89,
   "metadata": {},
   "outputs": [
    {
     "data": {
      "text/plain": [
       "<pymongo.results.InsertOneResult at 0x102ccd120>"
      ]
     },
     "execution_count": 89,
     "metadata": {},
     "output_type": "execute_result"
    }
   ],
   "source": [
    "db = client.examples # specifying use the examples database\n",
    "db.auto.insert_one(tesla_s) \n",
    "# insert_one() to insert tesla_s list to autos collection"
   ]
  },
  {
   "cell_type": "code",
   "execution_count": 90,
   "metadata": {},
   "outputs": [
    {
     "data": {
      "text/plain": [
       "{'_id': ObjectId('5914e80e3506ba17113c5231'),\n",
       " 'body style': '5-door liftback',\n",
       " 'class': 'full-size',\n",
       " 'designer': {'firstname': 'Franz', 'surname': 'von Holzhausen'},\n",
       " 'layout': ['Rear-motor', 'rear_wheel frive'],\n",
       " 'manufacturer': 'Tesla Motors',\n",
       " 'model years': [2013],\n",
       " 'production': [2012, 2013]}"
      ]
     },
     "execution_count": 90,
     "metadata": {},
     "output_type": "execute_result"
    }
   ],
   "source": [
    "db.auto.find_one()\n",
    "# create a new field -- '_id':ObjectedID"
   ]
  },
  {
   "cell_type": "code",
   "execution_count": 91,
   "metadata": {},
   "outputs": [
    {
     "name": "stdout",
     "output_type": "stream",
     "text": [
      "{'_id': ObjectId('5914e80e3506ba17113c5231'), 'manufacturer': 'Tesla Motors', 'class': 'full-size', 'body style': '5-door liftback', 'production': [2012, 2013], 'model years': [2013], 'layout': ['Rear-motor', 'rear_wheel frive'], 'designer': {'firstname': 'Franz', 'surname': 'von Holzhausen'}}\n"
     ]
    }
   ],
   "source": [
    "Tesla = db.auto.find({'manufacturer':'Tesla Motors'})\n",
    "for x in Tesla:\n",
    "    print(x)"
   ]
  }
 ],
 "metadata": {
  "kernelspec": {
   "display_name": "Python 3",
   "language": "python",
   "name": "python3"
  },
  "language_info": {
   "codemirror_mode": {
    "name": "ipython",
    "version": 3
   },
   "file_extension": ".py",
   "mimetype": "text/x-python",
   "name": "python",
   "nbconvert_exporter": "python",
   "pygments_lexer": "ipython3",
   "version": "3.6.0"
  }
 },
 "nbformat": 4,
 "nbformat_minor": 2
}
