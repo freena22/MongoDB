{
 "cells": [
  {
   "cell_type": "markdown",
   "metadata": {},
   "source": [
    "### 1. Making a Connection with MongoClient"
   ]
  },
  {
   "cell_type": "code",
   "execution_count": 26,
   "metadata": {
    "collapsed": true
   },
   "outputs": [],
   "source": [
    "from pymongo import MongoClient\n",
    "import pprint\n",
    "client = MongoClient('mongodb://localhost:27017')"
   ]
  },
  {
   "cell_type": "markdown",
   "metadata": {},
   "source": [
    "### 2. Getting a Database"
   ]
  },
  {
   "cell_type": "code",
   "execution_count": 36,
   "metadata": {
    "collapsed": true
   },
   "outputs": [],
   "source": [
    "db = client.test_database\n",
    "# access databases using attribute style on client"
   ]
  },
  {
   "cell_type": "markdown",
   "metadata": {},
   "source": [
    "### 3. Getting a Collection\n",
    "- roughly the equivalent of a table in a relational database. Getting a collection in PyMongo works the same as getting a database"
   ]
  },
  {
   "cell_type": "code",
   "execution_count": 37,
   "metadata": {
    "collapsed": true
   },
   "outputs": [],
   "source": [
    "collection = db.test_collection"
   ]
  },
  {
   "cell_type": "markdown",
   "metadata": {},
   "source": [
    "### 4. Documents\n",
    "- Data in MongoDB is represented (and stored) using JSON-style documents."
   ]
  },
  {
   "cell_type": "code",
   "execution_count": 43,
   "metadata": {
    "collapsed": true
   },
   "outputs": [],
   "source": [
    "import datetime\n",
    "post = {\"author\": \"Mike\",\n",
    "        \"text\": \"My first blog post!\",\n",
    "        \"tags\": [\"mongodb\", \"python\", \"pymongo\"],\n",
    "        \"date\": datetime.datetime.utcnow()\n",
    "       }"
   ]
  },
  {
   "cell_type": "code",
   "execution_count": 40,
   "metadata": {
    "collapsed": true
   },
   "outputs": [],
   "source": [
    "# Inserting a Document into a collection:  insert_one() method"
   ]
  },
  {
   "cell_type": "code",
   "execution_count": 44,
   "metadata": {},
   "outputs": [
    {
     "name": "stdout",
     "output_type": "stream",
     "text": [
      "<pymongo.results.InsertOneResult object at 0x102cade10>\n"
     ]
    }
   ],
   "source": [
    "posts = db.posts\n",
    "post_id = posts.insert_one(post)\n",
    "print(post_id)"
   ]
  },
  {
   "cell_type": "code",
   "execution_count": 57,
   "metadata": {},
   "outputs": [
    {
     "data": {
      "text/plain": [
       "{'_id': ObjectId('5914dcca3506ba17113c5229'),\n",
       " 'author': 'Mike',\n",
       " 'date': datetime.datetime(2017, 5, 11, 21, 46, 48, 601000),\n",
       " 'tags': ['mongodb', 'python', 'pymongo'],\n",
       " 'text': 'My first blog post!'}"
      ]
     },
     "execution_count": 57,
     "metadata": {},
     "output_type": "execute_result"
    }
   ],
   "source": [
    "# Getting a Single Document With find_one()\n",
    "posts.find_one()"
   ]
  },
  {
   "cell_type": "code",
   "execution_count": 58,
   "metadata": {},
   "outputs": [
    {
     "data": {
      "text/plain": [
       "2"
      ]
     },
     "execution_count": 58,
     "metadata": {},
     "output_type": "execute_result"
    }
   ],
   "source": [
    "# Counting\n",
    "posts.find({\"author\": \"Mike\"}).count()\n"
   ]
  },
  {
   "cell_type": "code",
   "execution_count": 27,
   "metadata": {},
   "outputs": [],
   "source": [
    "tesla_s = {\n",
    "    'manufacturer':'Tesla Motors',\n",
    "    'class':'full-size',\n",
    "    'body style':'5-door liftback',\n",
    "    'production':[2012,2013],\n",
    "    'model years':[2013],\n",
    "    'layout': ['Rear-motor','rear_wheel frive'],\n",
    "    'designer': {\n",
    "        'firstname': 'Franz',\n",
    "        'surname': 'von Holzhausen'\n",
    "    },\n",
    "}\n"
   ]
  },
  {
   "cell_type": "code",
   "execution_count": 28,
   "metadata": {},
   "outputs": [
    {
     "data": {
      "text/plain": [
       "<pymongo.results.InsertOneResult at 0x102cadca8>"
      ]
     },
     "execution_count": 28,
     "metadata": {},
     "output_type": "execute_result"
    }
   ],
   "source": [
    "db = client.examples # specifying use the examples database\n",
    "db.autos.insert_one(tesla_s) \n",
    "# insert_one() to insert tesla_s list to autos collection"
   ]
  },
  {
   "cell_type": "code",
   "execution_count": 29,
   "metadata": {},
   "outputs": [
    {
     "name": "stdout",
     "output_type": "stream",
     "text": [
      "Database(MongoClient(host=['localhost:27017'], document_class=dict, tz_aware=False, connect=True), 'examples')\n"
     ]
    }
   ],
   "source": [
    "print(db)"
   ]
  },
  {
   "cell_type": "code",
   "execution_count": 32,
   "metadata": {},
   "outputs": [
    {
     "data": {
      "text/plain": [
       "{'_id': ObjectId('5914cc713506ba17113c5226'),\n",
       " 'body style': '5-door liftback',\n",
       " 'class': 'full-size',\n",
       " 'designer': {'firstname': 'Franz', 'surname': 'von Holzhausen'},\n",
       " 'layout': ['Rear-motor', 'rear_wheel frive'],\n",
       " 'manufacturer': 'Tesla Motors',\n",
       " 'model years': [2013],\n",
       " 'production': [2012, 2013]}"
      ]
     },
     "execution_count": 32,
     "metadata": {},
     "output_type": "execute_result"
    }
   ],
   "source": [
    "db.autos.find_one()\n",
    "# create a new field -- '_id':ObjectedID"
   ]
  },
  {
   "cell_type": "code",
   "execution_count": 35,
   "metadata": {},
   "outputs": [
    {
     "name": "stdout",
     "output_type": "stream",
     "text": [
      "{'_id': ObjectId('5914cc713506ba17113c5226'),\n",
      " 'body style': '5-door liftback',\n",
      " 'class': 'full-size',\n",
      " 'designer': {'firstname': 'Franz', 'surname': 'von Holzhausen'},\n",
      " 'layout': ['Rear-motor', 'rear_wheel frive'],\n",
      " 'manufacturer': 'Tesla Motors',\n",
      " 'model years': [2013],\n",
      " 'production': [2012, 2013]}\n",
      "{'_id': ObjectId('5914cda13506ba17113c5228'),\n",
      " 'body style': '5-door liftback',\n",
      " 'class': 'full-size',\n",
      " 'designer': {'firstname': 'Franz', 'surname': 'von Holzhausen'},\n",
      " 'layout': ['Rear-motor', 'rear_wheel frive'],\n",
      " 'manufacturer': 'Tesla Motors',\n",
      " 'model years': [2013],\n",
      " 'production': [2012, 2013]}\n"
     ]
    }
   ],
   "source": [
    "autos = db.autos.find({'manufacturer':'Tesla Motors'})\n",
    "for a in autos:\n",
    "    pprint.pprint(a)"
   ]
  },
  {
   "cell_type": "code",
   "execution_count": null,
   "metadata": {
    "collapsed": true
   },
   "outputs": [],
   "source": []
  }
 ],
 "metadata": {
  "kernelspec": {
   "display_name": "Python 3",
   "language": "python",
   "name": "python3"
  },
  "language_info": {
   "codemirror_mode": {
    "name": "ipython",
    "version": 3
   },
   "file_extension": ".py",
   "mimetype": "text/x-python",
   "name": "python",
   "nbconvert_exporter": "python",
   "pygments_lexer": "ipython3",
   "version": "3.6.0"
  }
 },
 "nbformat": 4,
 "nbformat_minor": 2
}
